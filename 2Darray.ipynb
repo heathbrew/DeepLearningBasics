{
 "cells": [
  {
   "cell_type": "markdown",
   "id": "659b1cc5-890d-442b-9bb5-a23be52d2e33",
   "metadata": {},
   "source": [
    "# Understanding and Manipulating 2D Tensors with PyTorch"
   ]
  },
  {
   "cell_type": "markdown",
   "id": "cea5c92e-f9fa-4f67-aa2e-a2549fa9deb7",
   "metadata": {},
   "source": [
    "## Creating 2D tensors"
   ]
  },
  {
   "cell_type": "code",
   "execution_count": 1,
   "id": "a1d24b38-8807-49dd-aa8e-cb3aee50803f",
   "metadata": {},
   "outputs": [
    {
     "name": "stdout",
     "output_type": "stream",
     "text": [
      "The new 2D tensor: tensor([[11, 12, 13],\n",
      "        [21, 22, 23],\n",
      "        [31, 32, 33]])\n"
     ]
    }
   ],
   "source": [
    "import torch\n",
    "\n",
    "twoD_list = [[11, 12, 13], [21, 22, 23], [31, 32, 33]]\n",
    "twoD_tensor = torch.tensor(twoD_list)\n",
    "print(\"The new 2D tensor:\", twoD_tensor)"
   ]
  },
  {
   "cell_type": "markdown",
   "id": "92e304f9-7d4b-4049-a6da-c8fa77691036",
   "metadata": {},
   "source": [
    "### Exploring Tensor Attributes"
   ]
  },
  {
   "cell_type": "code",
   "execution_count": 2,
   "id": "fe0452f2-6e54-4fbc-830c-074f3f1e83bd",
   "metadata": {},
   "outputs": [
    {
     "name": "stdout",
     "output_type": "stream",
     "text": [
      "The dimension of 2D tensor: 2\n",
      "The shape of 2D tensor: torch.Size([3, 3])\n",
      "The size of 2D tensor: torch.Size([3, 3])\n",
      "The number of elements: 9\n"
     ]
    }
   ],
   "source": [
    "print(\"The dimension of 2D tensor:\", twoD_tensor.ndimension())\n",
    "print(\"The shape of 2D tensor:\", twoD_tensor.shape)\n",
    "print(\"The size of 2D tensor:\", twoD_tensor.size())\n",
    "print(\"The number of elements:\", twoD_tensor.numel())"
   ]
  },
  {
   "cell_type": "markdown",
   "id": "8e9760c5-d5c0-41b6-a947-4c0d437ebf4d",
   "metadata": {},
   "source": [
    "## Conversion Between Tensors and Other Data Structures"
   ]
  },
  {
   "cell_type": "markdown",
   "id": "6ddc7a84-a4d2-4c4e-a098-453f3adb73ef",
   "metadata": {},
   "source": [
    "### Tensor to Numpy Array"
   ]
  },
  {
   "cell_type": "code",
   "execution_count": 4,
   "id": "77dd1963-52ca-48a6-8be3-4fb9685574e7",
   "metadata": {},
   "outputs": [
    {
     "name": "stdout",
     "output_type": "stream",
     "text": [
      "Tensor -> Numpy array: [[11 12 13]\n",
      " [21 22 23]\n",
      " [31 32 33]]\n"
     ]
    }
   ],
   "source": [
    "twoD_numpy = twoD_tensor.numpy()\n",
    "print(\"Tensor -> Numpy array:\", twoD_numpy)"
   ]
  },
  {
   "cell_type": "markdown",
   "id": "92756695-c734-406c-b55f-f9a09e6c7562",
   "metadata": {},
   "source": [
    "### Pandas DataFrame to Tensor"
   ]
  },
  {
   "cell_type": "code",
   "execution_count": 6,
   "id": "9f423bc7-b5c0-4512-9f25-2e095c7b5a96",
   "metadata": {},
   "outputs": [
    {
     "name": "stdout",
     "output_type": "stream",
     "text": [
      "Tensor after conversion: tensor([[11, 12],\n",
      "        [21, 22],\n",
      "        [31, 23]])\n"
     ]
    }
   ],
   "source": [
    "import pandas as pd\n",
    "\n",
    "df = pd.DataFrame({'a': [11, 21, 31], 'b':[12, 22, 23]})\n",
    "new_tensor = torch.from_numpy(df.values)\n",
    "print(\"Tensor after conversion:\", new_tensor)"
   ]
  },
  {
   "cell_type": "markdown",
   "id": "06fbbc34-5e0a-48c9-9a89-5c799bb804b0",
   "metadata": {},
   "source": [
    "## Basic Tensor Operations"
   ]
  },
  {
   "cell_type": "markdown",
   "id": "80df15e0-8865-41e0-8d18-3e3ee8c6c0e1",
   "metadata": {},
   "source": [
    "### Indexing and Slicing"
   ]
  },
  {
   "cell_type": "code",
   "execution_count": 8,
   "id": "35cdd47e-be7a-4efc-9ddd-b0c7218f02ef",
   "metadata": {},
   "outputs": [
    {
     "name": "stdout",
     "output_type": "stream",
     "text": [
      "The value of 2nd row 3rd col: tensor(46)\n"
     ]
    }
   ],
   "source": [
    "tensor_example = torch.tensor([[11, 12, 13], [21, 22, 46], [31, 32, 33]])\n",
    "print(\"The value of 2nd row 3rd col:\", tensor_example[1, 2])"
   ]
  },
  {
   "cell_type": "markdown",
   "id": "d39bb688-3429-4b51-a375-10596fe5ed4d",
   "metadata": {},
   "source": [
    "## Tensor Arithmetic"
   ]
  },
  {
   "cell_type": "markdown",
   "id": "060906f0-e90f-4cda-97e4-71fd55fede19",
   "metadata": {},
   "source": [
    "### Addition"
   ]
  },
  {
   "cell_type": "code",
   "execution_count": 10,
   "id": "ab47e97f-dbcc-4b88-86d0-c82b3516f4a2",
   "metadata": {},
   "outputs": [
    {
     "data": {
      "text/plain": [
       "tensor([[3, 1],\n",
       "        [1, 3]])"
      ]
     },
     "execution_count": 10,
     "metadata": {},
     "output_type": "execute_result"
    }
   ],
   "source": [
    "X = torch.tensor([[1, 0], [0, 1]])\n",
    "Y = torch.tensor([[2, 1], [1, 2]])\n",
    "\n",
    "X_plus_Y = X + Y\n",
    "\n",
    "X_plus_Y"
   ]
  },
  {
   "cell_type": "markdown",
   "id": "a8860d8f-aace-447f-b35f-0d81ea0c7994",
   "metadata": {},
   "source": [
    "### Scalar Multiplication"
   ]
  },
  {
   "cell_type": "code",
   "execution_count": 11,
   "id": "a77b3496-cf1e-4dd8-a6d5-b8bbd707a26f",
   "metadata": {},
   "outputs": [
    {
     "data": {
      "text/plain": [
       "tensor([[4, 2],\n",
       "        [2, 4]])"
      ]
     },
     "execution_count": 11,
     "metadata": {},
     "output_type": "execute_result"
    }
   ],
   "source": [
    "two_Y = 2 * Y\n",
    "\n",
    "two_Y"
   ]
  },
  {
   "cell_type": "markdown",
   "id": "b737214b-beb5-462e-b0f0-5d030494dbd8",
   "metadata": {},
   "source": [
    "### Element-wise Product"
   ]
  },
  {
   "cell_type": "code",
   "execution_count": 12,
   "id": "cdd737c8-b12a-4be4-8321-3239c5c02efe",
   "metadata": {},
   "outputs": [
    {
     "data": {
      "text/plain": [
       "tensor([[2, 0],\n",
       "        [0, 2]])"
      ]
     },
     "execution_count": 12,
     "metadata": {},
     "output_type": "execute_result"
    }
   ],
   "source": [
    "X_times_Y = X * Y\n",
    "\n",
    "X_times_Y"
   ]
  },
  {
   "cell_type": "markdown",
   "id": "f5c10e3d-db98-422b-8d4d-69107d6dd784",
   "metadata": {},
   "source": [
    "### Matrix Multiplication"
   ]
  },
  {
   "cell_type": "code",
   "execution_count": 13,
   "id": "bc710c48-f259-44bf-9c6e-f7f07c7e51c4",
   "metadata": {},
   "outputs": [
    {
     "data": {
      "text/plain": [
       "tensor([[0, 2],\n",
       "        [0, 2]])"
      ]
     },
     "execution_count": 13,
     "metadata": {},
     "output_type": "execute_result"
    }
   ],
   "source": [
    "A = torch.tensor([[0, 1, 1], [1, 0, 1]])\n",
    "B = torch.tensor([[1, 1], [1, 1], [-1, 1]])\n",
    "\n",
    "A_times_B = torch.mm(A, B)\n",
    "A_times_B"
   ]
  },
  {
   "cell_type": "code",
   "execution_count": null,
   "id": "68400453-f96e-4320-8be4-2b0fa77cd9eb",
   "metadata": {},
   "outputs": [],
   "source": []
  }
 ],
 "metadata": {
  "kernelspec": {
   "display_name": "Python 3 (ipykernel)",
   "language": "python",
   "name": "python3"
  },
  "language_info": {
   "codemirror_mode": {
    "name": "ipython",
    "version": 3
   },
   "file_extension": ".py",
   "mimetype": "text/x-python",
   "name": "python",
   "nbconvert_exporter": "python",
   "pygments_lexer": "ipython3",
   "version": "3.10.0"
  }
 },
 "nbformat": 4,
 "nbformat_minor": 5
}
